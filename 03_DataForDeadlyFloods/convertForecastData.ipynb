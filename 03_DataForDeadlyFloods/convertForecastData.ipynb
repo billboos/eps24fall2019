{
 "cells": [
  {
   "cell_type": "code",
   "execution_count": 1,
   "metadata": {},
   "outputs": [],
   "source": [
    "import numpy as np\n",
    "import matplotlib \n",
    "import matplotlib.pyplot as plt\n",
    "import matplotlib.cm as cm\n",
    "import mpl_toolkits\n",
    "import glob\n",
    "import pandas as pd\n",
    "import xarray as xr\n",
    "import cartopy\n",
    "from cartopy.util import add_cyclic_point\n",
    "import cartopy.crs as ccrs"
   ]
  },
  {
   "cell_type": "code",
   "execution_count": 2,
   "metadata": {},
   "outputs": [],
   "source": [
    "dirn = './forecastData/'\n",
    "\n",
    "def loadGribWriteNetcdf(filen):\n",
    "    dat = xr.open_dataset(dirn+filen+'.grib',engine='pynio')\n",
    "    dat.to_netcdf(dirn+filen+'.nc')"
   ]
  },
  {
   "cell_type": "code",
   "execution_count": 3,
   "metadata": {},
   "outputs": [],
   "source": [
    "# filelist = {'ayeyarwady_division,myanmar',\n",
    "#             'Barguna Bangladesh',\n",
    "#             'Central_North Thailand floods (2011)',\n",
    "#             'chinazhouqumudslide',\n",
    "#             'houston,texas',\n",
    "#             'Khyber Pakhtunkhwa, Punjab provinces (2010)',\n",
    "#             'sierraleonemudslide',\n",
    "#             'tacloban, south phillipines'\n",
    "#            }\n",
    "filelist = {'TilwaraFlood2013',\n",
    "           'SouthAsianFlood2007'}"
   ]
  },
  {
   "cell_type": "code",
   "execution_count": 4,
   "metadata": {},
   "outputs": [],
   "source": [
    "for filen in filelist:\n",
    "    loadGribWriteNetcdf(filen)\n",
    "    "
   ]
  },
  {
   "cell_type": "code",
   "execution_count": null,
   "metadata": {},
   "outputs": [],
   "source": []
  }
 ],
 "metadata": {
  "kernelspec": {
   "display_name": "xarrayenv",
   "language": "python",
   "name": "xarrayenv"
  },
  "language_info": {
   "codemirror_mode": {
    "name": "ipython",
    "version": 2
   },
   "file_extension": ".py",
   "mimetype": "text/x-python",
   "name": "python",
   "nbconvert_exporter": "python",
   "pygments_lexer": "ipython2",
   "version": "2.7.14"
  }
 },
 "nbformat": 4,
 "nbformat_minor": 2
}
