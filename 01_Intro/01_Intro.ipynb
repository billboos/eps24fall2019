{
 "cells": [
  {
   "cell_type": "markdown",
   "metadata": {},
   "source": [
    "<div style='background-image: url(\"../share/Aerial_view_LLNL.jpg\") ; padding: 0px ; background-size: cover ; border-radius: 15px ; height: 250px; background-position: 0% 80%'>\n",
    "    <div style=\"float: center ; margin: 50px ; padding: 20px ; background: rgba(255 , 255 , 255 , 0.8) ; width: 50% ; height: 150px\">\n",
    "        <div style=\"position: relative ; top: 50% ; transform: translatey(-50%)\">\n",
    "            <div style=\"font-size: xx-large ; font-weight: 900 ; color: rgba(0 , 0 , 0 , 0.9) ; line-height: 100%\">Notebook 1:</div>\n",
    "            <div style=\"font-size: x-large ; padding-top: 20px ; color: rgba(0 , 0 , 0 , 0.7)\">Hurricane Maria</div>\n",
    "            <div style=\"font-size: large ; padding-top: 20px ; color: rgba(0 , 0 , 0 , 0.7)\">Estimated Time: 30 minutes.</div>\n",
    "        </div>\n",
    "    </div>\n",
    "</div>\n",
    "\n",
    "\n",
    "\n",
    "<img src=\"https://upload.wikimedia.org/wikipedia/commons/thumb/0/0b/Maria_2017-09-19_2015Z.png/1200px-Maria_2017-09-19_2015Z.png\" style=\"width: 400px; height: 400px;\" />"
   ]
  },
  {
   "cell_type": "markdown",
   "metadata": {},
   "source": [
    "### Instructor:  William Boos\n",
    "\n",
    "This notebook will introduce you to some basics of coding in Python in the Jupyter environment.\n",
    "\n",
    "---\n",
    "This notebook will walk you through:\n",
    "* computing with Jupyter (IPython) notebooks\n",
    "* basics of programming with Python\n",
    "* how to load data with `xarray`\n",
    "\n",
    "This notebook was based on one written by Professor Horst Rademacher for EPS C20."
   ]
  },
  {
   "cell_type": "markdown",
   "metadata": {},
   "source": [
    "## Table of Contents\n",
    "\n",
    "1 - [Computing Environment](#computing environment)\n",
    "\n",
    "2 - [Programming in Python](#programming concepts)\n",
    "\n",
    "3 - [Earthquake Early Warning Demo](#early warnings)"
   ]
  },
  {
   "cell_type": "markdown",
   "metadata": {},
   "source": [
    "---\n",
    "\n",
    "## Our Computing Environment, Jupyter notebooks  <a id='computing environment'></a>\n",
    "This webpage is called a Jupyter notebook. A notebook is a place to write programs and view their results. \n",
    "\n",
    "### Text cells\n",
    "In a notebook, each rectangle containing text or code is called a *cell*.\n",
    "\n",
    "Text cells (like this one) can be edited by double-clicking on them. They're written in a simple format called [Markdown](http://daringfireball.net/projects/markdown/syntax) to add formatting and section headings.  You don't need to learn Markdown, but you might want to.\n",
    "\n",
    "After you edit a text cell, click the \"run cell\" button at the top that looks like ▶| to confirm any changes. (Try not to delete any of the cells given to you.)"
   ]
  },
  {
   "cell_type": "markdown",
   "metadata": {},
   "source": [
    "### Code cells\n",
    "Other cells contain code in the Python 3 language. Running a code cell will execute all of the code it contains.\n",
    "\n",
    "To run the code in a code cell, first click on that cell to activate it.  It'll be highlighted with a little green or blue rectangle.  Next, either press ▶| or hold down the `shift` key and press `return` or `enter`.\n",
    "\n",
    "Try running this cell:"
   ]
  },
  {
   "cell_type": "code",
   "execution_count": null,
   "metadata": {},
   "outputs": [],
   "source": [
    "print(\"Hello, World!\")"
   ]
  },
  {
   "cell_type": "markdown",
   "metadata": {},
   "source": [
    "And this one:"
   ]
  },
  {
   "cell_type": "code",
   "execution_count": null,
   "metadata": {},
   "outputs": [],
   "source": [
    "print(\"\\N{WAVING HAND SIGN}, \\N{EARTH GLOBE ASIA-AUSTRALIA}!\")"
   ]
  },
  {
   "cell_type": "markdown",
   "metadata": {},
   "source": [
    "The fundamental building block of Python code is an expression. Cells can contain multiple lines with multiple expressions. When you run a cell, the lines of code are executed in the order in which they appear. Every `print` expression prints a line. Run the next cell and notice the order of the output."
   ]
  },
  {
   "cell_type": "code",
   "execution_count": null,
   "metadata": {},
   "outputs": [],
   "source": [
    "print(\"First this line is printed,\")\n",
    "print(\"and then this one.\")"
   ]
  },
  {
   "cell_type": "markdown",
   "metadata": {},
   "source": [
    "### Writing Jupyter notebooks\n",
    "You can use Jupyter notebooks for your own projects or documents.  When you make your own notebook, you'll need to create your own cells for text and code.\n",
    "\n",
    "To add a cell, click the + button in the menu bar.  It'll start out as a text cell.  You can change it to a code cell by clicking inside it so it's highlighted, clicking the drop-down box next to the restart (⟳) button in the menu bar, and choosing \"Code\".\n",
    "\n",
    "**Understanding Check** In the code cell below this one, write code in it that prints out:\n",
    "   \n",
    "    A whole new cell! ♪🌏♪\n",
    "\n",
    "(That musical note symbol is like the Earth symbol.  Its long-form name is `\\N{EIGHTH NOTE}`.)\n",
    "\n",
    "Run your cell to verify that it works."
   ]
  },
  {
   "cell_type": "code",
   "execution_count": null,
   "metadata": {},
   "outputs": [],
   "source": [
    "#Fill in the print statement\n",
    "print(...)"
   ]
  },
  {
   "cell_type": "markdown",
   "metadata": {},
   "source": [
    "### Errors\n",
    "Python is a language, and like natural human languages, it has rules.  It differs from natural language in two important ways:\n",
    "1. The rules are *simple*.  You can learn most of them in a few weeks and gain reasonable proficiency with the language in a semester.\n",
    "2. The rules are *rigid*.  If you're proficient in a natural language, you can understand a non-proficient speaker, glossing over small mistakes.  A computer running Python code is not smart enough to do that.\n",
    "\n",
    "Whenever you write code, you'll make mistakes.  When you run a code cell that has errors, Python will sometimes produce error messages to tell you what you did wrong.\n",
    "\n",
    "Errors are okay; even experienced programmers make many errors.  When you make an error, you just have to find the source of the problem, fix it, and move on.\n",
    "\n",
    "We have made an error in the next cell.  Run it and see what happens."
   ]
  },
  {
   "cell_type": "code",
   "execution_count": null,
   "metadata": {},
   "outputs": [],
   "source": [
    "print(\"This line is missing something.\""
   ]
  },
  {
   "cell_type": "markdown",
   "metadata": {},
   "source": [
    "You should see something like this (minus our annotations):\n",
    "\n",
    "<img src=\"images/error.jpg\"/>\n",
    "\n",
    "The last line of the error output attempts to tell you what went wrong.  The *syntax* of a language is its structure, and this `SyntaxError` tells you that you have created an illegal structure.  \"`EOF`\" means \"end of file,\" so the message is saying Python expected you to write something more (in this case, a right parenthesis) before finishing the cell.\n",
    "\n",
    "There's a lot of terminology in programming languages, but you don't need to know it all in order to program effectively. If you see a cryptic message like this, you can often get by without deciphering it.  (Of course, if you're frustrated, feel free to ask a friend or post on the class Piazza.)"
   ]
  },
  {
   "cell_type": "markdown",
   "metadata": {},
   "source": [
    "Try to fix the code above so that you can run the cell and see the intended message instead of an error."
   ]
  },
  {
   "cell_type": "markdown",
   "metadata": {},
   "source": [
    "---\n",
    "\n",
    "## Introduction to Programming with Python <a id='programming concepts'></a>"
   ]
  },
  {
   "cell_type": "markdown",
   "metadata": {},
   "source": [
    "Before getting into the more advanced analysis techniques that will be required in this course, we need to cover a few of the foundational elements of programming in Python.\n",
    "#### A. Expressions\n",
    "The departure point for all programming is the concept of the __expression__. An expression is a combination of variables, operators, and other Python elements that the language interprets and acts upon. Expressions act as a set of instructions to be fed through the interpreter, with the goal of generating specific outcomes. See below for some examples of basic expressions."
   ]
  },
  {
   "cell_type": "code",
   "execution_count": null,
   "metadata": {},
   "outputs": [],
   "source": [
    "# Examples of expressions:\n",
    "\n",
    "2 + 2\n",
    "\n",
    "'me' + ' and I'\n",
    "\n",
    "12 ** 2\n",
    "\n",
    "6 + 4"
   ]
  },
  {
   "cell_type": "markdown",
   "metadata": {},
   "source": [
    "You will notice that only the last line in a cell gets printed out. If you want to see the values of previous expressions, you need to call `print` on that expression. Try adding `print` statements to some of the above expressions to get them to display."
   ]
  },
  {
   "cell_type": "markdown",
   "metadata": {},
   "source": [
    "#### B. Variables\n",
    "In the example below, `a` and `b` are Python objects known as __variables__. We are giving an object (in this case, an `integer` and a `float`, two Python data types) a name that we can store for later use. To use that value, we can simply type the name that we stored the value as. Variables are stored within the notebook's environment, meaning stored variable values carry over from cell to cell."
   ]
  },
  {
   "cell_type": "code",
   "execution_count": null,
   "metadata": {},
   "outputs": [],
   "source": [
    "a = 4\n",
    "b = 10/5"
   ]
  },
  {
   "cell_type": "markdown",
   "metadata": {},
   "source": [
    "Notice that when you create a variable, unlike what you previously saw with the expressions, it does not print anything out."
   ]
  },
  {
   "cell_type": "code",
   "execution_count": null,
   "metadata": {},
   "outputs": [],
   "source": [
    "# Notice that 'a' retains its value.\n",
    "print(a)\n",
    "a + b"
   ]
  },
  {
   "cell_type": "markdown",
   "metadata": {},
   "source": [
    "#### C. Lists\n",
    "The next topic is particularly useful in the kind of data manipulation that you will see throughout 101B. The following few cells will introduce the concept of __lists__ (and their counterpart, `numpy arrays`). Read through the following cell to understand the basic structure of a list. \n",
    "\n",
    "A list is an ordered collection of objects. They allow us to store and access groups of variables and other objects for easy access and analysis. Check out this [documentation](https://www.tutorialspoint.com/python/python_lists.htm) for an in-depth look at the capabilities of lists.\n",
    "\n",
    "To initialize a list, you use brackets. Putting objects separated by commas in between the brackets will add them to the list. "
   ]
  },
  {
   "cell_type": "code",
   "execution_count": null,
   "metadata": {},
   "outputs": [],
   "source": [
    "# an empty list\n",
    "lst = []\n",
    "print(lst)\n",
    "\n",
    "# reassigning our empty list to a new list\n",
    "lst = [1, 3, 6, 'lists', 'are' 'fun', 4]\n",
    "print(lst)"
   ]
  },
  {
   "cell_type": "markdown",
   "metadata": {},
   "source": [
    "To access a value in the list, put the index of the item you wish to access in brackets following the variable that stores the list. Lists in Python are zero-indexed, so the indicies for `lst` are 0, 1, 2, 3, 4, 5, and 6."
   ]
  },
  {
   "cell_type": "code",
   "execution_count": null,
   "metadata": {},
   "outputs": [],
   "source": [
    "# Elements are selected like this:\n",
    "example = lst[2]\n",
    "\n",
    "# The above line selects the 3rd element of lst (list indices are 0-offset) and sets it to a variable named example.\n",
    "print(example)"
   ]
  },
  {
   "cell_type": "markdown",
   "metadata": {},
   "source": [
    "#### D. Numpy Arrays\n",
    "Closely related to the concept of a list is the array, a nested sequence of elements that is structurally identical to a list. Arrays, however, can be operated on arithmetically with much more versatility than regular lists. For the purpose of later data manipulation, we'll access arrays through [Numpy](https://docs.scipy.org/doc/numpy/reference/routines.html), which will require an import statement.\n",
    "\n",
    "Now run the next cell to import the numpy library into your notebook, and examine how numpy arrays can be used."
   ]
  },
  {
   "cell_type": "code",
   "execution_count": null,
   "metadata": {},
   "outputs": [],
   "source": [
    "import numpy as np"
   ]
  },
  {
   "cell_type": "code",
   "execution_count": null,
   "metadata": {},
   "outputs": [],
   "source": [
    "# Initialize an array of integers 0 through 9.\n",
    "example_array = np.array([0, 1, 2, 3, 4, 5, 6, 7, 8, 9])\n",
    "\n",
    "# This can also be accomplished using np.arange\n",
    "example_array_2 = np.arange(10)\n",
    "print('Undoubled Array:')\n",
    "print(example_array_2)\n",
    "\n",
    "# Double the values in example_array and print the new array.\n",
    "double_array = example_array*2\n",
    "print('Doubled Array:')\n",
    "print(double_array)"
   ]
  },
  {
   "cell_type": "markdown",
   "metadata": {},
   "source": [
    "#### E. Functions!\n",
    "Functions are useful when you want to repeat a series of steps on multiple different objects, but don't want to type out the steps over and over again. Many functions are built into Python already; for example, you've already made use of `len()` to retrieve the number of elements in a list. You can also write your own functions, and at this point you already have the skills to do so.\n",
    "\n",
    "\n",
    "Functions generally take a set of __parameters__ (also called inputs), which define the objects they will use when they are run. For example, the `len()` function takes a list or array as its parameter, and returns the length of that list.\n",
    "\n",
    "\n",
    "The following cell gives an example of an extremely simple function, called `add_two`, which takes as its parameter an integer and returns that integer with, you guessed it, 2 added to it."
   ]
  },
  {
   "cell_type": "code",
   "execution_count": null,
   "metadata": {},
   "outputs": [],
   "source": [
    "# An adder function that adds 2 to the given n.\n",
    "def add_two(n):\n",
    "    return n + 2"
   ]
  },
  {
   "cell_type": "code",
   "execution_count": null,
   "metadata": {},
   "outputs": [],
   "source": [
    "add_two(5)"
   ]
  },
  {
   "cell_type": "markdown",
   "metadata": {},
   "source": [
    "Easy enough, right? Let's look at a function that takes two parameters, compares them somehow, and then returns a boolean value (`True` or `False`) depending on the comparison. The `is_multiple` function below takes as parameters an integer `m` and an integer `n`, checks if `m` is a multiple of `n`, and returns `True` if it is. Otherwise, it returns `False`. \n",
    "​\n",
    "`if` statements, are dependent on boolean expressions. If the conditional is `True`, then the following indented code block will be executed. If the conditional evaluates to `False`, then the code block will be skipped over. Read more about `if` statements [here](https://www.tutorialspoint.com/python/python_if_else.htm)."
   ]
  },
  {
   "cell_type": "code",
   "execution_count": null,
   "metadata": {},
   "outputs": [],
   "source": [
    "def is_multiple(m, n):\n",
    "    if (m % n == 0):\n",
    "        return True\n",
    "    else:\n",
    "        return False"
   ]
  },
  {
   "cell_type": "code",
   "execution_count": null,
   "metadata": {},
   "outputs": [],
   "source": [
    "is_multiple(12, 4)"
   ]
  },
  {
   "cell_type": "code",
   "execution_count": null,
   "metadata": {},
   "outputs": [],
   "source": [
    "is_multiple(12, 7)"
   ]
  },
  {
   "cell_type": "markdown",
   "metadata": {},
   "source": [
    "#### F. Dictionaries\n",
    "\n",
    "Dictionaries are key data structures in Python. Each one is a collection of one or more key-value pairs, where you can look up a value by key. Keys are required to be immutable (non-variable) types like ints or strings, but values can be any type."
   ]
  },
  {
   "cell_type": "code",
   "execution_count": null,
   "metadata": {},
   "outputs": [],
   "source": [
    "my_dict = {\"a\": 5, \"b\": 8, \"c\": \"value\", 10: [\"one\", 2, \"three\"]}"
   ]
  },
  {
   "cell_type": "code",
   "execution_count": null,
   "metadata": {},
   "outputs": [],
   "source": [
    "type(my_dict)"
   ]
  },
  {
   "cell_type": "code",
   "execution_count": null,
   "metadata": {},
   "outputs": [],
   "source": [
    "# Looking up by key\n",
    "my_dict[\"a\"]"
   ]
  },
  {
   "cell_type": "code",
   "execution_count": null,
   "metadata": {},
   "outputs": [],
   "source": [
    "# Reassigning a value to a key\n",
    "my_dict[\"b\"] = 2017\n",
    "my_dict"
   ]
  },
  {
   "cell_type": "code",
   "execution_count": null,
   "metadata": {},
   "outputs": [],
   "source": [
    "# Adding a key-value pair\n",
    "my_dict.update({\"e\": 20})\n",
    "my_dict"
   ]
  },
  {
   "cell_type": "code",
   "execution_count": null,
   "metadata": {},
   "outputs": [],
   "source": [
    "# Deleting a key-pair\n",
    "del my_dict[\"a\"]\n",
    "my_dict"
   ]
  },
  {
   "cell_type": "markdown",
   "metadata": {},
   "source": [
    "## Flood analysis demo <a id='early warnings'></a>\n",
    "\n",
    "Now that you have learned some Python basics, you can use your skills to analyze some data. \n",
    "\n",
    "This notebook will provide some exercises using [xarray](https://xarray.pydata.org), a Python library that makes it easier to work with multidimensional data.  Most data in the earth sciences is at least 4-dimensional, with 3 spatial dimensions (e.g. latitude, longitude, and height) and one time dimension.  The xarray package lets us load such 4-dimensional data and refer to it using metadata rather than figuring out which individual element of a data array corresponds to the space-time point of interest.  For example, we can say \"give me the precipitation rate for December 2018 between 10-20$^\\circ$N, 140-160$^\\circ$E.  \n",
    "\n",
    "Let's quickly install xarray, along with the other Python libraries that it depends on:"
   ]
  },
  {
   "cell_type": "code",
   "execution_count": 3,
   "metadata": {},
   "outputs": [],
   "source": [
    "%%capture\n",
    "import numpy as np\n",
    "import pandas as pd\n",
    "!pip install dask\n",
    "!pip install --upgrade xarray==0.12.3"
   ]
  },
  {
   "cell_type": "markdown",
   "metadata": {},
   "source": [
    "Now let's use xarray to load some precipitation data.  We first need to import the xarray library (the above cell installed it on the system, but you still haven't loaded it into this Jupyter notebook).  We'll call it \"xr\" for short so that we don't have to type out the longer \"xarray\" every time we want to use it."
   ]
  },
  {
   "cell_type": "code",
   "execution_count": 1,
   "metadata": {},
   "outputs": [],
   "source": [
    "# This line will import useful functions defined in warning_relationships.py\n",
    "# Have a look at the documentation in warning_relationships before you proceed, if you like\n",
    "import xarray as xr\n",
    "import matplotlib.pyplot as plt\n",
    "import cartopy.crs as ccrs"
   ]
  },
  {
   "cell_type": "markdown",
   "metadata": {},
   "source": [
    "We can then use xarray to load our precipitation data.  Now you'll see the benefit of all this setup -- loading the data is very easy, even when the data is spread across multiple files:"
   ]
  },
  {
   "cell_type": "code",
   "execution_count": 2,
   "metadata": {},
   "outputs": [
    {
     "data": {
      "text/plain": [
       "<xarray.Dataset>\n",
       "Dimensions:      (latitude: 180, longitude: 360, nv: 2, time: 8)\n",
       "Coordinates:\n",
       "  * latitude     (latitude) float32 -90.0 -89.0 -88.0 -87.0 ... 87.0 88.0 89.0\n",
       "  * longitude    (longitude) float32 0.0 1.0 2.0 3.0 ... 356.0 357.0 358.0 359.0\n",
       "  * time         (time) datetime64[ns] 2017-09-16 2017-09-17 ... 2017-09-23\n",
       "Dimensions without coordinates: nv\n",
       "Data variables:\n",
       "    lat_bounds   (time, latitude, nv) float32 dask.array<shape=(8, 180, 2), chunksize=(1, 180, 2)>\n",
       "    lon_bounds   (time, longitude, nv) float32 dask.array<shape=(8, 360, 2), chunksize=(1, 360, 2)>\n",
       "    time_bounds  (time, nv) object dask.array<shape=(8, 2), chunksize=(1, 2)>\n",
       "    precip       (time, latitude, longitude) float32 dask.array<shape=(8, 180, 360), chunksize=(1, 180, 360)>\n",
       "Attributes:\n",
       "    Conventions:                CF-1.6, ACDD 1.3\n",
       "    title:                      Global Precipitation Climatatology Project (G...\n",
       "    source:                     /data1/GPCP_CDR/GPCP_Output/1DD//bin/201709/s...\n",
       "    references:                 Huffman et al. 1997, http://dx.doi.org/10.117...\n",
       "    history:                    1) 2017-12-11T17:55:43Z, Dr. Jian-Jian Wang, ...\n",
       "    Metadata_Conventions:       CF-1.6, Unidata Dataset Discovery v1.0, NOAA ...\n",
       "    standard_name_vocabulary:   CF Standard Name Table (v41, 22 February 2017)\n",
       "    id:                         201709/gpcp_v01r03_daily_d20170916_c20171211.nc\n",
       "    naming_authority:           gov.noaa.ncdc\n",
       "    date_created:               2017-12-11T17:55:43Z\n",
       "    license:                    No constraints on data access or use.\n",
       "    summary:                    Global Precipitation Climatology Project (GPC...\n",
       "    keywords:                   EARTH SCIENCE > ATMOSPHERE > PRECIPITATION > ...\n",
       "    keywords_vocabulary:        NASA Global Change Master Directory (GCMD) Ea...\n",
       "    cdm_data_type:              Grid\n",
       "    project:                    GPCP > Global Precipitation Climatology Project\n",
       "    processing_level:           NASA Level 3\n",
       "    creator_name:               Dr. Jian-Jian Wang\n",
       "    creator_email:              jjwang@umd.edu\n",
       "    institution:                ACADEMIC > UMD/ESSIC > Earth System Science I...\n",
       "    publisher_name:             NOAA National Centers for Environmental Infor...\n",
       "    publisher_email:            jjwang@umd.edu\n",
       "    publisher_url:              https://www.ncei.noaa.gov\n",
       "    geospatial_lat_min:         -90.0\n",
       "    geospatial_lat_max:         90.0\n",
       "    geospatial_lat_units:       degrees_north\n",
       "    geospatial_lat_resolution:  1 degree\n",
       "    geospatial_lon_min:         0.0\n",
       "    geospatial_lon_max:         360.0\n",
       "    geospatial_lon_units:       degrees_east\n",
       "    geospatial_lon_resolution:  1 degree\n",
       "    time_coverage_start:        2017-09-16T00:00:00Z\n",
       "    time_coverage_end:          2017-09-16T23:59:59Z\n",
       "    time_coverage_duration:     P1D\n",
       "    contributor_name:           Robert Adler, Jian-Jian Wang\n",
       "    contributor_role:           principalInvestigator, processor and custodian\n",
       "    acknowledgment:             This project was supported in part by a grant...\n",
       "    cdr_program:                NOAA Climate Data Record Program for satellit...\n",
       "    cdr_variable:               precipitation\n",
       "    metadata_link:              gov.noaa.ncdc:XXXXX\n",
       "    product_version:            v01r03\n",
       "    platform:                   GOES (Geostationary Operational Environmental...\n",
       "    sensor:                     Imager, AIRS > Atmospheric Infrared Sounder, ...\n",
       "    spatial_resolution:         1 degree\n",
       "    comment:                    Processing computer: eagle2.umd.edu"
      ]
     },
     "execution_count": 2,
     "metadata": {},
     "output_type": "execute_result"
    }
   ],
   "source": [
    "#dat = xr.open_mfdataset('data/3B42_Daily.201709*.nc4',combine='nested',concat_dim='time')\n",
    "#dat = xr.open_dataset('https://disc2.gesdisc.eosdis.nasa.gov/opendap/TRMM_L3/TRMM_3B42_Daily.7/2017/09/3B42_Daily.20170917.7.nc4')\n",
    "dat = xr.open_mfdataset('data/gpcp_v01r03_daily_d201709*_c20171211.nc',combine='by_coords')\n",
    "dat"
   ]
  },
  {
   "cell_type": "code",
   "execution_count": 3,
   "metadata": {},
   "outputs": [
    {
     "data": {
      "text/plain": [
       "<xarray.DataArray 'precip' (time: 8, latitude: 180, longitude: 360)>\n",
       "dask.array<shape=(8, 180, 360), dtype=float32, chunksize=(1, 180, 360)>\n",
       "Coordinates:\n",
       "  * latitude   (latitude) float32 -90.0 -89.0 -88.0 -87.0 ... 87.0 88.0 89.0\n",
       "  * longitude  (longitude) float32 0.0 1.0 2.0 3.0 ... 356.0 357.0 358.0 359.0\n",
       "  * time       (time) datetime64[ns] 2017-09-16 2017-09-17 ... 2017-09-23\n",
       "Attributes:\n",
       "    long_name:      NOAA Climate Data Record (CDR) of Daily GPCP Satellite-Ga...\n",
       "    standard_name:  lwe_precipitation_rate\n",
       "    units:          mm/day\n",
       "    valid_range:    [  0. 100.]\n",
       "    cell_methods:   area: mean time: mean"
      ]
     },
     "execution_count": 3,
     "metadata": {},
     "output_type": "execute_result"
    }
   ],
   "source": [
    "precip = dat['precip']\n",
    "precip"
   ]
  },
  {
   "cell_type": "code",
   "execution_count": 4,
   "metadata": {},
   "outputs": [
    {
     "data": {
      "text/plain": [
       "<xarray.DataArray 'precip' (latitude: 180, longitude: 360)>\n",
       "dask.array<shape=(180, 360), dtype=float32, chunksize=(180, 360)>\n",
       "Coordinates:\n",
       "  * latitude   (latitude) float32 -90.0 -89.0 -88.0 -87.0 ... 87.0 88.0 89.0\n",
       "  * longitude  (longitude) float32 0.0 1.0 2.0 3.0 ... 356.0 357.0 358.0 359.0\n",
       "    time       datetime64[ns] 2017-09-20\n",
       "Attributes:\n",
       "    long_name:      NOAA Climate Data Record (CDR) of Daily GPCP Satellite-Ga...\n",
       "    standard_name:  lwe_precipitation_rate\n",
       "    units:          mm/day\n",
       "    valid_range:    [  0. 100.]\n",
       "    cell_methods:   area: mean time: mean"
      ]
     },
     "execution_count": 4,
     "metadata": {},
     "output_type": "execute_result"
    }
   ],
   "source": [
    "precip.sel(time='2017-09-20')"
   ]
  },
  {
   "cell_type": "code",
   "execution_count": 5,
   "metadata": {},
   "outputs": [
    {
     "data": {
      "text/plain": [
       "<matplotlib.contour.QuadContourSet at 0x7f7f3c0dd128>"
      ]
     },
     "execution_count": 5,
     "metadata": {},
     "output_type": "execute_result"
    },
    {
     "data": {
      "image/png": "[encoded data removed]",
      "text/plain": [
       "<Figure size 432x288 with 2 Axes>"
      ]
     },
     "metadata": {
      "needs_background": "light"
     },
     "output_type": "display_data"
    }
   ],
   "source": [
    "precip.sel(time='2017-09-20').plot.contourf()"
   ]
  },
  {
   "cell_type": "code",
   "execution_count": 7,
   "metadata": {},
   "outputs": [
    {
     "data": {
      "image/png": "[encoded data removed]",
      "text/plain": [
       "<Figure size 720x288 with 2 Axes>"
      ]
     },
     "metadata": {
      "needs_background": "light"
     },
     "output_type": "display_data"
    }
   ],
   "source": [
    "plt.figure(figsize=(10,4))\n",
    "axes = plt.subplot(projection=ccrs.PlateCarree());\n",
    "precip.sel(time='2017-09-20').plot.contourf(ax=axes,levels=20)\n",
    "axes.coastlines(color='white')\n",
    "axes.set_extent([-130,-30,0,60])"
   ]
  },
  {
   "cell_type": "code",
   "execution_count": 12,
   "metadata": {},
   "outputs": [],
   "source": [
    "lon1 = 360-67.25\n",
    "lon2 = 360-65.6\n",
    "lat1 = 17.95\n",
    "lat2 = 18.5"
   ]
  },
  {
   "cell_type": "code",
   "execution_count": 16,
   "metadata": {},
   "outputs": [
    {
     "data": {
      "image/png": "[encoded data removed]",
      "text/plain": [
       "<Figure size 432x288 with 1 Axes>"
      ]
     },
     "metadata": {
      "needs_background": "light"
     },
     "output_type": "display_data"
    }
   ],
   "source": [
    "precip.sel(longitude=slice(lon1,lon2),latitude=slice(lat1,lat2)).mean(dim={'longitude','latitude'}).plot()\n",
    "plt.grid()"
   ]
  },
  {
   "cell_type": "code",
   "execution_count": null,
   "metadata": {},
   "outputs": [],
   "source": []
  }
 ],
 "metadata": {
  "anaconda-cloud": {},
  "kernelspec": {
   "display_name": "Python 3",
   "language": "python",
   "name": "python3"
  },
  "language_info": {
   "codemirror_mode": {
    "name": "ipython",
    "version": 3
   },
   "file_extension": ".py",
   "mimetype": "text/x-python",
   "name": "python",
   "nbconvert_exporter": "python",
   "pygments_lexer": "ipython3",
   "version": "3.6.8"
  }
 },
 "nbformat": 4,
 "nbformat_minor": 2
}
