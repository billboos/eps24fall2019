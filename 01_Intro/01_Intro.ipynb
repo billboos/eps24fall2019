{
 "cells": [
  {
   "cell_type": "markdown",
   "metadata": {},
   "source": [
    "<div style=\"float: center ; margin: 50px ; padding: 20px ; background: rgba(255 , 255 , 255 , 0.8) ; width: 50% ; height: 2px\">\n",
    "    <div style=\"position: relative ; top: 10% ; transform: translatey(-50%)\">\n",
    "        <div style=\"font-size: xx-large ; font-weight: 700 ; color: rgba(0 , 0 , 0 , 0.9) ; line-height: 100%\">Notebook 1:</div>\n",
    "        <div style=\"font-size: x-large ; padding-top: 2px ; color: rgba(0 , 0 , 0 , 0.7)\">Hurricane Maria</div>\n",
    "    </div>\n",
    "</div>\n",
    "<img src=\"https://i0.wp.com/multifiles.pressherald.com/uploads/sites/4/2017/09/Sep-20-2017-12-49-PM-Edited.gif?resize=639%2C431&ssl=1\" style=\"width: 650px; height: 400px;\" />"
   ]
  },
  {
   "cell_type": "markdown",
   "metadata": {},
   "source": [
    "### Instructor:  William Boos\n",
    "\n",
    "This notebook will introduce you to some basics of coding in the **Python language** using  the **Jupyter environment**:\n",
    "\n",
    "* computing with Jupyter (iPython) notebooks\n",
    "* basics of programming with Python\n",
    "* how to load data with `xarray`\n",
    "\n",
    "This notebook was based on one written by Professor Horst Rademacher and Qingkai Kong for EPS C20."
   ]
  },
  {
   "cell_type": "markdown",
   "metadata": {},
   "source": [
    "## Table of Contents\n",
    "\n",
    "1 - [Computing Environment Basics](#computingenvironment)\n",
    "\n",
    "2 - [Brief intro to the Python language](#programmingconcepts)\n",
    "\n",
    "3 - [Rain in Hurricane Maria](#Maria)"
   ]
  },
  {
   "cell_type": "markdown",
   "metadata": {},
   "source": [
    "---\n",
    "\n",
    "## Our Computing Environment: Jupyter notebooks  <a id='computingenvironment'></a>\n",
    "This webpage is called a Jupyter notebook. A notebook is a place to write programs and view their results. \n",
    "\n",
    "### Text cells\n",
    "In a notebook, each rectangle containing text or code is called a *cell*.\n",
    "\n",
    "Text cells (like this one) can be edited by double-clicking on them. They're written in a simple format called [Markdown](http://daringfireball.net/projects/markdown/syntax) to add formatting and section headings.  The Markdown language is simple enough that we won't spend any time on its details (if you want to get fancy, you are welcome to read up on it).\n",
    "\n",
    "After you edit a text cell, click the \"run cell\" button at the top that looks like ▶| to confirm any changes. (Try not to delete any of the cells given to you.)"
   ]
  },
  {
   "cell_type": "markdown",
   "metadata": {},
   "source": [
    "### Code cells\n",
    "Other cells contain code in the Python 3 language. Running a code cell will execute all of the code it contains.\n",
    "\n",
    "To run the code in a code cell, first click on that cell to activate it.  It'll be highlighted in a green or blue rectangle.  Next, either press ▶| or hold down the `shift` key and press `return` or `enter`.\n",
    "\n",
    "Try running this cell:"
   ]
  },
  {
   "cell_type": "code",
   "execution_count": null,
   "metadata": {},
   "outputs": [],
   "source": [
    "print(\"Hello, World!\")"
   ]
  },
  {
   "cell_type": "markdown",
   "metadata": {},
   "source": [
    "And this one:"
   ]
  },
  {
   "cell_type": "code",
   "execution_count": null,
   "metadata": {},
   "outputs": [],
   "source": [
    "print(\"\\N{WAVING HAND SIGN}, \\N{EARTH GLOBE ASIA-AUSTRALIA}!\")"
   ]
  },
  {
   "cell_type": "markdown",
   "metadata": {},
   "source": [
    "The fundamental building block of Python code is an expression. Cells can contain multiple lines with multiple expressions. When you run a cell, the lines of code are executed in the order in which they appear. Every `print` expression prints a line. Run the next cell and notice the order of the output."
   ]
  },
  {
   "cell_type": "code",
   "execution_count": null,
   "metadata": {},
   "outputs": [],
   "source": [
    "print(\"First this line is printed,\")\n",
    "print(\"and then this one.\")"
   ]
  },
  {
   "cell_type": "markdown",
   "metadata": {},
   "source": [
    "### Writing Jupyter notebooks\n",
    "You can use Jupyter notebooks for your own projects or documents.  When you make your own notebook, you'll need to create your own cells for text and code.\n",
    "\n",
    "To add a cell, click the + button in the menu bar.  It'll start out as a text cell.  You can change it to a code cell by clicking inside it so it's highlighted, clicking the drop-down box in the above menu bar, and choosing \"Code\".\n",
    "\n",
    "**Understanding Check**: In the code cell immediately below, write code that prints the following:\n",
    "   \n",
    "    A whole new cell! ♪🌏♪\n",
    "\n",
    "(That musical note symbol is like the Earth symbol.  Its long-form name is `\\N{EIGHTH NOTE}`.)\n",
    "\n",
    "Run your cell to verify that it works."
   ]
  },
  {
   "cell_type": "code",
   "execution_count": null,
   "metadata": {},
   "outputs": [],
   "source": [
    "#Fill in the print statement\n",
    "print(...)"
   ]
  },
  {
   "cell_type": "markdown",
   "metadata": {},
   "source": [
    "### Errors\n",
    "Python is a language, and like natural human languages, it has rules.  It differs from natural language in two important ways:\n",
    "1. The rules are *simple*.  You can learn most of them in a few weeks and gain reasonable proficiency with the language in a semester.\n",
    "2. The rules are *rigid*.  If you're proficient in a natural language, you can understand a non-proficient speaker, glossing over small mistakes.  A computer running Python code is not smart enough to do that.\n",
    "\n",
    "Whenever you write code, you'll make mistakes.  When you run a code cell that has errors, Python will sometimes produce error messages to tell you what you did wrong.\n",
    "\n",
    "Errors are okay; even experienced programmers make many errors.  When you make an error, you just have to find the source of the problem, fix it, and move on.\n",
    "\n",
    "We have made an error in the next cell.  Run it and see what happens."
   ]
  },
  {
   "cell_type": "code",
   "execution_count": null,
   "metadata": {},
   "outputs": [],
   "source": [
    "print(\"This line is missing something.\""
   ]
  },
  {
   "cell_type": "markdown",
   "metadata": {},
   "source": [
    "The last line of the error output attempts to tell you what went wrong.  The *syntax* of a language is its structure, and this `SyntaxError` tells you that you have created an illegal structure.  \"`EOF`\" means \"end of file,\" so the message is saying Python expected you to write something more (in this case, a right parenthesis) before finishing the cell.\n",
    "\n",
    "There's a lot of terminology in programming languages, but you don't need to know it all in order to program effectively. If you see a cryptic message like this, you can often get by without deciphering it (of course, if you're frustrated, feel free to ask a friend or **post on the class Piazza**)."
   ]
  },
  {
   "cell_type": "markdown",
   "metadata": {},
   "source": [
    "Try to fix the code above so that you can run the cell and see the intended message instead of an error."
   ]
  },
  {
   "cell_type": "markdown",
   "metadata": {},
   "source": [
    "---\n",
    "\n",
    "## Introduction to Programming with Python <a id='programmingconcepts'></a>"
   ]
  },
  {
   "cell_type": "markdown",
   "metadata": {},
   "source": [
    "Before getting into the analysis techniques that will use in this course, we need to cover a few of the foundational elements of programming in Python.\n",
    "#### A. Expressions\n",
    "The departure point for all programming is the concept of the __expression__. An expression is a combination of variables, operators, and other Python elements that the language interprets and acts upon. Expressions act as a set of instructions to be fed through the interpreter, with the goal of generating specific outcomes. See below for some examples of basic expressions."
   ]
  },
  {
   "cell_type": "code",
   "execution_count": null,
   "metadata": {},
   "outputs": [],
   "source": [
    "# Examples of expressions:\n",
    "\n",
    "2 + 2\n",
    "\n",
    "'me' + ' and I'\n",
    "\n",
    "12 ** 2\n",
    "\n",
    "6 + 4"
   ]
  },
  {
   "cell_type": "markdown",
   "metadata": {},
   "source": [
    "The first line is a \"comment\", intended only as an explanation for other humans reading the code; the Python language ignores all lines beginning with the \"#\" symbol.\n",
    "\n",
    "You will notice that only the last line in a cell gets printed out. If you want to see the values of previous expressions, you need to call `print` on that expression. Try adding `print` statements to some of the above expressions to get them to display."
   ]
  },
  {
   "cell_type": "markdown",
   "metadata": {},
   "source": [
    "#### B. Variables\n",
    "In the example below, `a` and `b` are Python objects known as __variables__. We are giving an object (in this case, an `integer` and a `float`, two Python data types) a name that we can store for later use. To use that value, we can simply type the name that we stored the value as. Variables are stored within the notebook's environment, meaning stored variable values carry over from cell to cell."
   ]
  },
  {
   "cell_type": "code",
   "execution_count": null,
   "metadata": {},
   "outputs": [],
   "source": [
    "a = 4\n",
    "b = 10/5"
   ]
  },
  {
   "cell_type": "markdown",
   "metadata": {},
   "source": [
    "Notice that when you create a variable, unlike what you previously saw with the expressions, it does not print anything out."
   ]
  },
  {
   "cell_type": "code",
   "execution_count": null,
   "metadata": {},
   "outputs": [],
   "source": [
    "# Notice that 'a' retains its value.\n",
    "print(a)\n",
    "a + b"
   ]
  },
  {
   "cell_type": "markdown",
   "metadata": {},
   "source": [
    "#### C. Lists\n",
    "The next topic is particularly useful in the kind of data manipulation that you will see in this course. The following few cells will introduce the concept of __lists__ (and their counterpart, `arrays`). Read through the following cell to understand the basic structure of a list. \n",
    "\n",
    "A list is an ordered collection of objects. They allow us to store and access groups of variables and other objects for easy access and analysis. Check out this [documentation](https://www.tutorialspoint.com/python/python_lists.htm) for an in-depth look at the capabilities of lists.\n",
    "\n",
    "To initialize a list, you use brackets. Putting objects separated by commas in between the brackets will add them to the list. "
   ]
  },
  {
   "cell_type": "code",
   "execution_count": null,
   "metadata": {},
   "outputs": [],
   "source": [
    "# an empty list\n",
    "lst = []\n",
    "print(lst)\n",
    "\n",
    "# reassigning our empty list to a new list\n",
    "lst = [1, 3, 6, 'lists', 'are' 'fun', 4]\n",
    "print(lst)"
   ]
  },
  {
   "cell_type": "markdown",
   "metadata": {},
   "source": [
    "To access a value in the list, put the index of the item you wish to access in brackets following the variable that stores the list. Lists in Python are **zero-indexed**, meaning that we start counting at 0 instead of 1.  So the indicies for `lst` are 0, 1, 2, 3, 4, 5, and 6."
   ]
  },
  {
   "cell_type": "code",
   "execution_count": null,
   "metadata": {},
   "outputs": [],
   "source": [
    "# Elements are selected like this:\n",
    "example = lst[2]\n",
    "\n",
    "# The above line selects the 3rd element of lst (list indices are 0-offset) and sets it to a variable named example.\n",
    "print(example)"
   ]
  },
  {
   "cell_type": "markdown",
   "metadata": {},
   "source": [
    "#### D. Numpy Arrays\n",
    "Closely related to the concept of a list is the array, a sequence of elements that is structurally identical to a list. Arrays, however, can be operated on mathematically with much more versatility than regular lists. For the purpose of later data manipulation, we'll access arrays through [Numpy](https://docs.scipy.org/doc/numpy/reference/routines.html), which is one of many libraries (or packages) that we can use after we **import** it into our notebook.\n",
    "\n",
    "Run the next cells to import the numpy library into your notebook, and examine how numpy arrays can be used.  We'll call Numpy \"np\" for short to save on typing:"
   ]
  },
  {
   "cell_type": "code",
   "execution_count": null,
   "metadata": {},
   "outputs": [],
   "source": [
    "import numpy as np"
   ]
  },
  {
   "cell_type": "code",
   "execution_count": null,
   "metadata": {},
   "outputs": [],
   "source": [
    "# Initialize an array of integers 0 through 9.\n",
    "example_array = np.array([0, 1, 2, 3, 4, 5, 6, 7, 8, 9])\n",
    "\n",
    "# This can also be accomplished using np.arange\n",
    "example_array_2 = np.arange(10)\n",
    "print('Undoubled Array:')\n",
    "print(example_array_2)\n",
    "\n",
    "# Double the values in example_array and print the new array.\n",
    "double_array = example_array*2\n",
    "print('Doubled Array:')\n",
    "print(double_array)"
   ]
  },
  {
   "cell_type": "markdown",
   "metadata": {},
   "source": [
    "#### E. Functions!\n",
    "Functions are useful when you want to repeat a series of steps on multiple different objects, but don't want to type out the steps over and over again. Many functions are built into Python already; for example, you've already made use of `print()` to display the contents of variables. You can also write your own functions, and at this point you already have the skills to do so.\n",
    "\n",
    "Functions generally take a set of __parameters__ (also called inputs), which define the objects they will use when they are run. For example, the `print()` function takes an object as its parameter, and displays its contents on your screen.\n",
    "\n",
    "The following cell gives an example of an extremely simple function, called `add_two`, which takes as its parameter an integer and returns that integer with, you guessed it, 2 added to it."
   ]
  },
  {
   "cell_type": "code",
   "execution_count": null,
   "metadata": {},
   "outputs": [],
   "source": [
    "# An adder function that adds 2 to the given n.\n",
    "def add_two(n):\n",
    "    return n + 2"
   ]
  },
  {
   "cell_type": "code",
   "execution_count": null,
   "metadata": {},
   "outputs": [],
   "source": [
    "add_two(5)"
   ]
  },
  {
   "cell_type": "markdown",
   "metadata": {},
   "source": [
    "Easy enough, right? Let's look at a function that takes two parameters, compares them somehow, and then returns a Boolean value (`True` or `False`) depending on the comparison. The `is_multiple` function below takes as parameters an integer `m` and an integer `n`, checks if `m` is a multiple of `n`, and returns `True` if it is. Otherwise, it returns `False`. \n",
    "\n",
    "This function uses an `if` statement, which depends on Boolean expressions. If the conditional is `True`, then the subsequent indented code block will be executed. If the conditional evaluates to `False`, then the code block will be skipped over. Read more about `if` statements [here](https://www.tutorialspoint.com/python/python_if_else.htm)."
   ]
  },
  {
   "cell_type": "code",
   "execution_count": null,
   "metadata": {},
   "outputs": [],
   "source": [
    "def is_multiple(m, n):\n",
    "    if (m % n == 0):\n",
    "        return True\n",
    "    else:\n",
    "        return False"
   ]
  },
  {
   "cell_type": "code",
   "execution_count": null,
   "metadata": {},
   "outputs": [],
   "source": [
    "is_multiple(12, 4)"
   ]
  },
  {
   "cell_type": "code",
   "execution_count": null,
   "metadata": {},
   "outputs": [],
   "source": [
    "is_multiple(12, 7)"
   ]
  },
  {
   "cell_type": "markdown",
   "metadata": {},
   "source": [
    "## Rain in Hurricane Maria <a id='Maria'></a>\n",
    "\n",
    "Now that you have learned some Python basics, you can use your skills to analyze some data. \n",
    "\n",
    "In this course we will rely heavily on [xarray](https://xarray.pydata.org), a Python library that makes it easier to work with multidimensional data.  Most data in the earth sciences is at least 4-dimensional, with 3 spatial dimensions (e.g. latitude, longitude, and height) plus one time dimension.  The xarray package lets us load such 4-dimensional data and refer to it using **metadata** rather than figuring out which individual element of an array corresponds to the space-time point of interest.  For example, we can say \"give me the precipitation rate for December 2018 between 10-20$^\\circ$N, 140-160$^\\circ$E\" and not have to figure out which array elements corresponds to those particular locations and times."
   ]
  },
  {
   "cell_type": "markdown",
   "metadata": {},
   "source": [
    "We first need to import the xarray library.  Let's also import two other libraries that will help us make pretty maps.  These are big libraries, so they might take a little while to load.  While the computer is busy running the cell, the small circle in the upper-right corner of your browser (next to the phrase \"Python 3\") will become solid and an asterisk will appear to the left of the cell that is running.  When the computer is no longer busy that circle will become open and the asterisk will be replaced by a number."
   ]
  },
  {
   "cell_type": "code",
   "execution_count": 1,
   "metadata": {},
   "outputs": [],
   "source": [
    "import xarray as xr\n",
    "import matplotlib.pyplot as plt\n",
    "import cartopy.crs as ccrs"
   ]
  },
  {
   "cell_type": "markdown",
   "metadata": {},
   "source": [
    "We can now use xarray to load our precipitation data.  Here you'll see the benefit of all this setup -- loading the data is very easy, even when the data is spread across multiple files.  The first line opens a dataset, and the second line displays information about the dataset."
   ]
  },
  {
   "cell_type": "code",
   "execution_count": null,
   "metadata": {},
   "outputs": [],
   "source": [
    "dat = xr.open_mfdataset('data/gpcp_v01r03_daily_d201709*_c20171211.nc',combine='by_coords')\n",
    "dat"
   ]
  },
  {
   "cell_type": "markdown",
   "metadata": {},
   "source": [
    "Each dataset can contain many variables.  This dataset happens to contain just one (the precipitation rate), but we still need to extract that particular variable:"
   ]
  },
  {
   "cell_type": "code",
   "execution_count": null,
   "metadata": {},
   "outputs": [],
   "source": [
    "precip = dat['precip']\n",
    "precip"
   ]
  },
  {
   "cell_type": "markdown",
   "metadata": {},
   "source": [
    "Now let's see how xarray makes our lives easier, but selecting the precipitation that occurred on a specific date:"
   ]
  },
  {
   "cell_type": "code",
   "execution_count": null,
   "metadata": {},
   "outputs": [],
   "source": [
    "precip.sel(time='2017-09-20')"
   ]
  },
  {
   "cell_type": "markdown",
   "metadata": {},
   "source": [
    "You can't just choose any date, because the dataset only contains 8 days of data.  Look in one of the earlier cells and find what range of dates it contains."
   ]
  },
  {
   "cell_type": "markdown",
   "metadata": {},
   "source": [
    "xarray also makes it very easy to visualize our data.  We can display the precipitation rate for a single day by invoking the **plot.contourf()** method on the xarray object:"
   ]
  },
  {
   "cell_type": "code",
   "execution_count": null,
   "metadata": {},
   "outputs": [],
   "source": [
    "precip.sel(time='2017-09-20',lon=slice(80,90),lat=slice(20,25)).plot.contourf()"
   ]
  },
  {
   "cell_type": "markdown",
   "metadata": {},
   "source": [
    "You should now see above a map of the precipitation that fell on September 20, 2017.  Is it obvious to you where the United States and Africa are on this map?  Maybe not so much, so let's put coastlines on the map.  To do this we need to tell xarray what \"map projection\" we want to use.  Here we will use the PlateCarree projection, but there are [lots of other options](https://scitools.org.uk/cartopy/docs/v0.15/crs/projections.html)."
   ]
  },
  {
   "cell_type": "code",
   "execution_count": null,
   "metadata": {},
   "outputs": [],
   "source": [
    "plt.figure(figsize=(10,4))\n",
    "axes = plt.subplot(projection=ccrs.PlateCarree());\n",
    "precip.sel(time='2017-09-20').plot.contourf(ax=axes)\n",
    "axes.coastlines(color='white')\n",
    "#axes.set_extent([-90,-50,0,50])"
   ]
  },
  {
   "cell_type": "markdown",
   "metadata": {},
   "source": [
    "There is lots going on in the above map.  Let's zoom in one the eastern United States, by setting the extent of the area displayed in the map.  Let's also specify the contour levels that we want to display using the \"np.arange\" function:"
   ]
  },
  {
   "cell_type": "code",
   "execution_count": null,
   "metadata": {},
   "outputs": [],
   "source": [
    "np.arange(0,51,2)"
   ]
  },
  {
   "cell_type": "code",
   "execution_count": null,
   "metadata": {},
   "outputs": [],
   "source": [
    "plt.figure(figsize=(10,4))\n",
    "axes = plt.subplot(projection=ccrs.PlateCarree());\n",
    "precip.sel(time='2017-09-20').plot.contourf(ax=axes,levels=np.arange(0,52,2))\n",
    "axes.coastlines(color='white')\n",
    "axes.set_extent([-90,-50,0,50])"
   ]
  },
  {
   "cell_type": "markdown",
   "metadata": {},
   "source": [
    "The blob of heavy rainfall over the islands southeast of Florida is Hurricane Maria.  Maria is very near Puerto Rico in the above map, but it produced heavy rainfall over a long track.  Let's look at the total rainfall accumulation by adding the rainfall that occurred over the 8 days that exist in our dataset -- this uses the ''sum(dim='time')'' method to sum over the time dimension of the data:"
   ]
  },
  {
   "cell_type": "code",
   "execution_count": null,
   "metadata": {},
   "outputs": [],
   "source": [
    "plt.figure(figsize=(10,4))\n",
    "axes = plt.subplot(projection=ccrs.PlateCarree());\n",
    "precip.sum(dim='time').plot.contourf(ax=axes,levels=np.arange(0,130,10))\n",
    "axes.coastlines(color='white')\n",
    "axes.set_extent([-90,-40,0,50])"
   ]
  },
  {
   "cell_type": "markdown",
   "metadata": {},
   "source": [
    "Now instead of looking at a map, let's see a **time series** of precipitation over Puerto Rico.  We will first define the latitude and longitude boundaries of a box surrounding Puerto Rico:"
   ]
  },
  {
   "cell_type": "code",
   "execution_count": null,
   "metadata": {},
   "outputs": [],
   "source": [
    "lon1 = 360-67.25\n",
    "lon2 = 360-65.6\n",
    "lat1 = 17.95\n",
    "lat2 = 18.5"
   ]
  },
  {
   "cell_type": "markdown",
   "metadata": {},
   "source": [
    "Now let's select the precipitation data inside that box, average over the box, and plot:"
   ]
  },
  {
   "cell_type": "code",
   "execution_count": null,
   "metadata": {},
   "outputs": [],
   "source": [
    "precip.sel(longitude=slice(lon1,lon2),latitude=slice(lat1,lat2)).mean(dim={'longitude','latitude'}).plot()"
   ]
  },
  {
   "cell_type": "markdown",
   "metadata": {},
   "source": [
    "Grid lines would make the above plot a little easier to read.  Add these to the above plot by adding a second line:  `plt.grid()`"
   ]
  },
  {
   "cell_type": "code",
   "execution_count": null,
   "metadata": {},
   "outputs": [],
   "source": []
  }
 ],
 "metadata": {
  "anaconda-cloud": {},
  "kernelspec": {
   "display_name": "Python 3",
   "language": "python",
   "name": "python3"
  },
  "language_info": {
   "codemirror_mode": {
    "name": "ipython",
    "version": 3
   },
   "file_extension": ".py",
   "mimetype": "text/x-python",
   "name": "python",
   "nbconvert_exporter": "python",
   "pygments_lexer": "ipython3",
   "version": "3.6.8"
  }
 },
 "nbformat": 4,
 "nbformat_minor": 2
}
