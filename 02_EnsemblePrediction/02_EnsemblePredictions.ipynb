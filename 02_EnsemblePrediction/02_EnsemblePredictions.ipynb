{
 "cells": [
  {
   "cell_type": "code",
   "execution_count": null,
   "metadata": {},
   "outputs": [],
   "source": [
    "import numpy as np\n",
    "import xarray as xr\n",
    "import matplotlib.pyplot as plt\n",
    "import cartopy.crs as ccrs"
   ]
  },
  {
   "cell_type": "code",
   "execution_count": null,
   "metadata": {},
   "outputs": [],
   "source": [
    "dirn = './data/'\n",
    "filen = 'ecmwfForecast20190901_rain.nc'\n",
    "dat = xr.open_dataset(dirn+filen)\n",
    "rain = dat['tp_P11_L1_GLL0_acc']\n",
    "\n",
    "filen = 'ecmwfForecast20190901_windspeed.nc'\n",
    "dat = xr.open_dataset(dirn+filen)\n",
    "dat\n",
    "windspeed = dat['__xarray_dataarray_variable__']"
   ]
  },
  {
   "cell_type": "code",
   "execution_count": null,
   "metadata": {},
   "outputs": [],
   "source": [
    "rain"
   ]
  },
  {
   "cell_type": "markdown",
   "metadata": {},
   "source": [
    "OK, we've prepared and loaded the data for you.  Now it's your turn to use what you learned from the last class to examine the forecasts for Hurricane Dorian.  Start by plotting the total rainfall accumulation predicted for September 1 - 6, 2019 in the first ensemble member."
   ]
  },
  {
   "cell_type": "code",
   "execution_count": null,
   "metadata": {},
   "outputs": [],
   "source": [
    "# write your code here:\n"
   ]
  },
  {
   "cell_type": "markdown",
   "metadata": {},
   "source": [
    "Now do the same for the maximum surface wind speed predicted to occur during the same period (Sept. 1-6, 2019), again for the first ensemble member.  Although you could look up how to find the maximum value, I'll tell you that the code for taking the maximum value over the forecast period looks like this:"
   ]
  },
  {
   "cell_type": "code",
   "execution_count": null,
   "metadata": {},
   "outputs": [],
   "source": [
    "windspeed.sel(forecast_time0=slice('0 days','5 days')).max(dim='forecast_time0')"
   ]
  },
  {
   "cell_type": "code",
   "execution_count": null,
   "metadata": {},
   "outputs": [],
   "source": [
    "# write your code here:\n"
   ]
  },
  {
   "cell_type": "markdown",
   "metadata": {},
   "source": [
    "Do all the ensemble members look the same?  Using maps of the maximum surface wind speed, can you find a forecast that says landfall will occur in Florida?  What about Georgia? "
   ]
  },
  {
   "cell_type": "code",
   "execution_count": null,
   "metadata": {},
   "outputs": [],
   "source": [
    "# plot a wind speed forecast that has a different track from the one seen above:\n"
   ]
  },
  {
   "cell_type": "markdown",
   "metadata": {},
   "source": [
    "If you had to tell the public the most likely track of the storm, how would you determine that track?  Use the below space to make a plot that could tell you that:"
   ]
  },
  {
   "cell_type": "code",
   "execution_count": null,
   "metadata": {},
   "outputs": [],
   "source": []
  },
  {
   "cell_type": "markdown",
   "metadata": {},
   "source": [
    "Now let's try to find the probability of extreme wind and rainfall at particular locations.  We'll assess probability by looking at the distribution of the ensemble members.  Let's start by picking one location (but note that longitude in this dataset goes from 0-360E, so you'll need to convert any longitudes that are given as -70 or 70W):"
   ]
  },
  {
   "cell_type": "code",
   "execution_count": null,
   "metadata": {},
   "outputs": [],
   "source": [
    "# choose a location here:\n",
    "lonchoice = \n",
    "latchoice = \n",
    "rainAtLocation = rain.sel(lat_0=latchoice,lon_0=lonchoice,method='nearest')\n",
    "rainAtLocation"
   ]
  },
  {
   "cell_type": "markdown",
   "metadata": {},
   "source": [
    "To visualize the forecasts of rain at that location, we can plot the *time series* of rain accumulation for each forecast, so we'll have a figure with 50 different lines (since there are 50 ensemble members).  To do this, we need to write a loop:"
   ]
  },
  {
   "cell_type": "code",
   "execution_count": null,
   "metadata": {},
   "outputs": [],
   "source": [
    "for ensembleMember in rainAtLocation.ensemble0:\n",
    "    rainAtLocation.sel(ensemble0=ensembleMember).plot()"
   ]
  },
  {
   "cell_type": "markdown",
   "metadata": {},
   "source": [
    "This is a little messy, and it's hard to tell what amount of rainfall is the most likely.  We can visualize the probability distribution better by plotting a *histogram* of the total rain accumulated on day 5:"
   ]
  },
  {
   "cell_type": "code",
   "execution_count": null,
   "metadata": {},
   "outputs": [],
   "source": [
    "rainAtLocation.sel(forecast_time0='5 days').plot.hist()\n",
    "plt.xlabel('rain accumulation')\n",
    "plt.ylabel('number of ensemble members')"
   ]
  },
  {
   "cell_type": "markdown",
   "metadata": {},
   "source": [
    "What is the most likely amount of rainfall that this location will receive between Sept. 1-6, 2019?  If you had to assign a probability of receiving at least a certain amount of rainfall, how would you do that?"
   ]
  },
  {
   "cell_type": "code",
   "execution_count": null,
   "metadata": {},
   "outputs": [],
   "source": []
  },
  {
   "cell_type": "markdown",
   "metadata": {},
   "source": [
    "Now estimate the probability of your location receiving hurricane-force winds.  Unless you happen to know this already, you'll probably have to look up the *Saffir-Simpson* scale to find out the definition of hurricane-force winds."
   ]
  },
  {
   "cell_type": "code",
   "execution_count": null,
   "metadata": {},
   "outputs": [],
   "source": []
  }
 ],
 "metadata": {
  "kernelspec": {
   "display_name": "Python 3",
   "language": "python",
   "name": "python3"
  },
  "language_info": {
   "codemirror_mode": {
    "name": "ipython",
    "version": 3
   },
   "file_extension": ".py",
   "mimetype": "text/x-python",
   "name": "python",
   "nbconvert_exporter": "python",
   "pygments_lexer": "ipython3",
   "version": "3.6.8"
  }
 },
 "nbformat": 4,
 "nbformat_minor": 2
}
