{
 "cells": [
  {
   "cell_type": "code",
   "execution_count": 1,
   "metadata": {},
   "outputs": [],
   "source": [
    "import numpy as np\n",
    "import xarray as xr\n",
    "import matplotlib.pyplot as plt\n",
    "import cartopy.crs as ccrs"
   ]
  },
  {
   "cell_type": "code",
   "execution_count": 2,
   "metadata": {},
   "outputs": [],
   "source": [
    "dirn = './data/'\n",
    "filen = 'ecmwfForecast20190901_rain.nc'\n",
    "dat = xr.open_dataset(dirn+filen)\n",
    "rain = dat['tp_P11_L1_GLL0_acc']\n",
    "\n",
    "filen = 'ecmwfForecast20190901_windspeed.nc'\n",
    "dat = xr.open_dataset(dirn+filen)\n",
    "dat\n",
    "windspeed = dat['__xarray_dataarray_variable__']"
   ]
  },
  {
   "cell_type": "code",
   "execution_count": 3,
   "metadata": {},
   "outputs": [
    {
     "data": {
      "text/plain": [
       "<xarray.DataArray 'tp_P11_L1_GLL0_acc' (ensemble0: 50, forecast_time0: 21, lat_0: 61, lon_0: 81)>\n",
       "[5188050 values with dtype=float32]\n",
       "Coordinates:\n",
       "  * lon_0                (lon_0) float32 270.0 270.5 271.0 ... 309.0 309.5 310.0\n",
       "  * ensemble0            (ensemble0) int32 0 1 2 3 4 5 6 ... 44 45 46 47 48 49\n",
       "  * forecast_time0       (forecast_time0) timedelta64[ns] 0 days 00:00:00 ... 5 days 00:00:00\n",
       "    initial_time0_hours  datetime64[ns] ...\n",
       "  * lat_0                (lat_0) float32 40.0 39.5 39.0 38.5 ... 11.0 10.5 10.0\n",
       "Attributes:\n",
       "    production_status:                              TIGGE Operational products\n",
       "    center:                                         European Center for Mediu...\n",
       "    type_of_statistical_processing:                 Accumulation\n",
       "    long_name:                                      total precipitation\n",
       "    parameter_template_discipline_category_number:  [11  0  1 52]\n",
       "    grid_type:                                      Latitude/longitude\n",
       "    units:                                          kg/m^2\n",
       "    statistical_process_duration:                   initial time to forecast ...\n",
       "    level_type:                                     Ground or water surface\n",
       "    parameter_discipline_and_category:              Meteorological products, ..."
      ]
     },
     "execution_count": 3,
     "metadata": {},
     "output_type": "execute_result"
    }
   ],
   "source": [
    "rain"
   ]
  },
  {
   "cell_type": "markdown",
   "metadata": {},
   "source": [
    "OK, we've prepared and loaded the data for you.  Now it's your turn to use what you learned from the last class to examine the forecasts for Hurricane Dorian.  Start by plotting the total rainfall accumulation predicted for September 1 - 6, 2019 in the first ensemble member."
   ]
  },
  {
   "cell_type": "code",
   "execution_count": 6,
   "metadata": {},
   "outputs": [
    {
     "data": {
      "text/plain": [
       "<matplotlib.contour.QuadContourSet at 0x7f2f224ed898>"
      ]
     },
     "execution_count": 6,
     "metadata": {},
     "output_type": "execute_result"
    },
    {
     "data": {
      "image/png": "[encoded data removed]",
      "text/plain": [
       "<Figure size 432x288 with 2 Axes>"
      ]
     },
     "metadata": {
      "needs_background": "light"
     },
     "output_type": "display_data"
    }
   ],
   "source": [
    "# write your code here:\n",
    "\n",
    "rain.sel(ensemble0=0,forecast_time0='5 days').plot.contourf()"
   ]
  },
  {
   "cell_type": "markdown",
   "metadata": {},
   "source": [
    "Now do the same for the maximum surface wind speed predicted to occur during the same period (Sept. 1-6, 2019), again for the first ensemble member.  Although you could look up how to find the maximum value, I'll tell you that the code for taking the maximum value over the forecast period looks like this:"
   ]
  },
  {
   "cell_type": "code",
   "execution_count": null,
   "metadata": {},
   "outputs": [],
   "source": [
    "windspeed.sel(forecast_time0=slice('0 days','5 days')).max(dim='forecast_time0')"
   ]
  },
  {
   "cell_type": "code",
   "execution_count": null,
   "metadata": {},
   "outputs": [],
   "source": [
    "# write your code here:\n"
   ]
  },
  {
   "cell_type": "markdown",
   "metadata": {},
   "source": [
    "Do all the ensemble members look the same?  Using maps of the maximum surface wind speed, can you find a forecast that says landfall will occur in Florida?  What about Georgia? "
   ]
  },
  {
   "cell_type": "code",
   "execution_count": null,
   "metadata": {},
   "outputs": [],
   "source": [
    "# plot a wind speed forecast that has a different track from the one seen above:\n"
   ]
  },
  {
   "cell_type": "markdown",
   "metadata": {},
   "source": [
    "If you had to tell the public the most likely track of the storm, how would you determine that track?  Use the below space to make a plot that could tell you that:"
   ]
  },
  {
   "cell_type": "code",
   "execution_count": null,
   "metadata": {},
   "outputs": [],
   "source": []
  },
  {
   "cell_type": "markdown",
   "metadata": {},
   "source": [
    "Now let's try to find the probability of extreme wind and rainfall at particular locations.  We'll assess probability by looking at the distribution of the ensemble members.  Let's start by picking one location (but note that longitude in this dataset goes from 0-360E, so you'll need to convert any longitudes that are given as -70 or 70W):"
   ]
  },
  {
   "cell_type": "code",
   "execution_count": null,
   "metadata": {},
   "outputs": [],
   "source": [
    "# choose a location here:\n",
    "lonchoice = \n",
    "latchoice = \n",
    "rainAtLocation = rain.sel(lat_0=latchoice,lon_0=lonchoice,method='nearest')\n",
    "rainAtLocation"
   ]
  },
  {
   "cell_type": "markdown",
   "metadata": {},
   "source": [
    "To visualize the forecasts of rain at that location, we can plot the *time series* of rain accumulation for each forecast, so we'll have a figure with 50 different lines (since there are 50 ensemble members).  To do this, we need to write a loop:"
   ]
  },
  {
   "cell_type": "code",
   "execution_count": null,
   "metadata": {},
   "outputs": [],
   "source": [
    "for ensembleMember in rainAtLocation.ensemble0:\n",
    "    rainAtLocation.sel(ensemble0=ensembleMember).plot()"
   ]
  },
  {
   "cell_type": "markdown",
   "metadata": {},
   "source": [
    "This is a little messy, and it's hard to tell what amount of rainfall is the most likely.  We can visualize the probability distribution better by plotting a *histogram* of the total rain accumulated on day 5:"
   ]
  },
  {
   "cell_type": "code",
   "execution_count": null,
   "metadata": {},
   "outputs": [],
   "source": [
    "rainAtLocation.sel(forecast_time0='5 days').plot.hist()\n",
    "plt.xlabel('rain accumulation')\n",
    "plt.ylabel('number of ensemble members')"
   ]
  },
  {
   "cell_type": "markdown",
   "metadata": {},
   "source": [
    "What is the most likely amount of rainfall that this location will receive between Sept. 1-6, 2019?  If you had to assign a probability of receiving at least a certain amount of rainfall, how would you do that?"
   ]
  },
  {
   "cell_type": "code",
   "execution_count": null,
   "metadata": {},
   "outputs": [],
   "source": []
  },
  {
   "cell_type": "markdown",
   "metadata": {},
   "source": [
    "Now estimate the probability of your location receiving hurricane-force winds.  Unless you happen to know this already, you'll probably have to look up the *Saffir-Simpson* scale to find out the definition of hurricane-force winds."
   ]
  },
  {
   "cell_type": "code",
   "execution_count": null,
   "metadata": {},
   "outputs": [],
   "source": []
  }
 ],
 "metadata": {
  "kernelspec": {
   "display_name": "Python 3",
   "language": "python",
   "name": "python3"
  },
  "language_info": {
   "codemirror_mode": {
    "name": "ipython",
    "version": 3
   },
   "file_extension": ".py",
   "mimetype": "text/x-python",
   "name": "python",
   "nbconvert_exporter": "python",
   "pygments_lexer": "ipython3",
   "version": "3.5.4"
  }
 },
 "nbformat": 4,
 "nbformat_minor": 2
}
