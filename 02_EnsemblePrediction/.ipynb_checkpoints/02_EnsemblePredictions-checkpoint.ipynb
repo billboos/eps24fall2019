{
 "cells": [
  {
   "cell_type": "code",
   "execution_count": null,
   "metadata": {},
   "outputs": [],
   "source": [
    "import numpy as np\n",
    "import xarray as xr\n",
    "import matplotlib.pyplot as plt\n",
    "import cartopy.crs as ccrs"
   ]
  },
  {
   "cell_type": "code",
   "execution_count": null,
   "metadata": {},
   "outputs": [],
   "source": [
    "dirn = './data/'\n",
    "filen = 'ecmwfForecast20190901_rain.nc'\n",
    "dat = xr.open_dataset(dirn+filen)\n",
    "rain = dat['rain']\n",
    "filen = 'ecmwfForecast20190901_windspeed.nc'\n",
    "dat = xr.open_dataset(dirn+filen)\n",
    "windspeed = dat['windspeed']"
   ]
  },
  {
   "cell_type": "code",
   "execution_count": null,
   "metadata": {},
   "outputs": [],
   "source": []
  }
 ],
 "metadata": {
  "kernelspec": {
   "display_name": "Python 3",
   "language": "python",
   "name": "python3"
  },
  "language_info": {
   "codemirror_mode": {
    "name": "ipython",
    "version": 3
   },
   "file_extension": ".py",
   "mimetype": "text/x-python",
   "name": "python",
   "nbconvert_exporter": "python",
   "pygments_lexer": "ipython3",
   "version": "3.6.8"
  }
 },
 "nbformat": 4,
 "nbformat_minor": 2
}
